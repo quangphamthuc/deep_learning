{
  "nbformat": 4,
  "nbformat_minor": 0,
  "metadata": {
    "colab": {
      "name": "NML.ipynb",
      "provenance": [],
      "collapsed_sections": []
    },
    "kernelspec": {
      "name": "python3",
      "display_name": "Python 3"
    },
    "accelerator": "GPU"
  },
  "cells": [
    {
      "cell_type": "code",
      "metadata": {
        "id": "zqtwWCGEzYji",
        "colab_type": "code",
        "colab": {}
      },
      "source": [
        "import tensorflow as tf\n",
        "import matplotlib.pyplot as plt\n",
        "import matplotlib.ticker as ticker\n",
        "from sklearn.model_selection import train_test_split\n",
        "\n",
        "import unicodedata\n",
        "import re\n",
        "import numpy as np\n",
        "import os\n",
        "import io\n",
        "import time"
      ],
      "execution_count": 1,
      "outputs": []
    },
    {
      "cell_type": "code",
      "metadata": {
        "id": "4gBhSywdnM3E",
        "colab_type": "code",
        "colab": {
          "base_uri": "https://localhost:8080/",
          "height": 34
        },
        "outputId": "7360ec4d-55e7-49f1-91ff-55b65722b78a"
      },
      "source": [
        "from google.colab import drive\n",
        "drive.mount('/gdrive')"
      ],
      "execution_count": 2,
      "outputs": [
        {
          "output_type": "stream",
          "text": [
            "Mounted at /gdrive\n"
          ],
          "name": "stdout"
        }
      ]
    },
    {
      "cell_type": "code",
      "metadata": {
        "id": "7voM6YnYzgWA",
        "colab_type": "code",
        "colab": {
          "base_uri": "https://localhost:8080/",
          "height": 51
        },
        "outputId": "8f868d82-400d-4865-8c30-f90c1b12a4d0"
      },
      "source": [
        "# Download the file\n",
        "path_to_zip = tf.keras.utils.get_file(\n",
        "    'spa-eng.zip', origin='http://storage.googleapis.com/download.tensorflow.org/data/spa-eng.zip',\n",
        "    extract=True)\n",
        "\n",
        "path_to_file = os.path.dirname(path_to_zip)+\"/spa-eng/spa.txt\""
      ],
      "execution_count": 3,
      "outputs": [
        {
          "output_type": "stream",
          "text": [
            "Downloading data from http://storage.googleapis.com/download.tensorflow.org/data/spa-eng.zip\n",
            "2646016/2638744 [==============================] - 0s 0us/step\n"
          ],
          "name": "stdout"
        }
      ]
    },
    {
      "cell_type": "code",
      "metadata": {
        "id": "4KZoH6UszovC",
        "colab_type": "code",
        "colab": {}
      },
      "source": [
        "# Converts the unicode file to ascii\n",
        "def unicode_to_ascii(s):\n",
        "  return ''.join(c for c in unicodedata.normalize('NFD', s)\n",
        "      if unicodedata.category(c) != 'Mn')\n",
        "\n",
        "\n",
        "def preprocess_sentence(w):\n",
        "  w = unicode_to_ascii(w.lower().strip())\n",
        "\n",
        "  # creating a space between a word and the punctuation following it\n",
        "  # eg: \"he is a boy.\" => \"he is a boy .\"\n",
        "  # Reference:- https://stackoverflow.com/questions/3645931/python-padding-punctuation-with-white-spaces-keeping-punctuation\n",
        "  w = re.sub(r\"([?.!,¿])\", r\" \\1 \", w)\n",
        "  w = re.sub(r'[\" \"]+', \" \", w)\n",
        "\n",
        "  # replacing everything with space except (a-z, A-Z, \".\", \"?\", \"!\", \",\")\n",
        "  w = re.sub(r\"[^a-zA-Z?.!,¿]+\", \" \", w)\n",
        "\n",
        "  w = w.strip()\n",
        "\n",
        "  # adding a start and an end token to the sentence\n",
        "  # so that the model know when to start and stop predicting.\n",
        "  w = '<start> ' + w + ' <end>'\n",
        "  return w"
      ],
      "execution_count": 4,
      "outputs": []
    },
    {
      "cell_type": "code",
      "metadata": {
        "id": "IfTyiHv17JEX",
        "colab_type": "code",
        "colab": {
          "base_uri": "https://localhost:8080/",
          "height": 71
        },
        "outputId": "2cab9d7b-9232-4e62-ffe7-0ca2215ccc1a"
      },
      "source": [
        "# 1. Remove the accents\n",
        "# 2. Clean the sentences\n",
        "# 3. Return word pairs in the format: [ENGLISH, SPANISH]\n",
        "def create_dataset(path, num_examples):\n",
        "  lines = io.open(path, encoding='UTF-8').read().strip().split('\\n')\n",
        "\n",
        "  word_pairs = [[preprocess_sentence(w) for w in l.split('\\t')]  for l in lines[:num_examples]]\n",
        "\n",
        "  return zip(*word_pairs)\n",
        "\n",
        "\n",
        "en, sp = create_dataset(path_to_file, None)\n",
        "print(en[-1])\n",
        "print(sp[-1])"
      ],
      "execution_count": 5,
      "outputs": [
        {
          "output_type": "stream",
          "text": [
            "<start> if you want to sound like a native speaker , you must be willing to practice saying the same sentence over and over in the same way that banjo players practice the same phrase over and over until they can play it correctly and at the desired tempo . <end>\n",
            "<start> si quieres sonar como un hablante nativo , debes estar dispuesto a practicar diciendo la misma frase una y otra vez de la misma manera en que un musico de banjo practica el mismo fraseo una y otra vez hasta que lo puedan tocar correctamente y en el tiempo esperado . <end>\n"
          ],
          "name": "stdout"
        }
      ]
    },
    {
      "cell_type": "code",
      "metadata": {
        "id": "1RnJ2wDv7JKr",
        "colab_type": "code",
        "colab": {}
      },
      "source": [
        "def tokenize(lang):\n",
        "  lang_tokenizer = tf.keras.preprocessing.text.Tokenizer(\n",
        "      filters='')\n",
        "  lang_tokenizer.fit_on_texts(lang)\n",
        "\n",
        "  tensor = lang_tokenizer.texts_to_sequences(lang)\n",
        "\n",
        "  tensor = tf.keras.preprocessing.sequence.pad_sequences(tensor,\n",
        "                                                         padding='post')\n",
        "\n",
        "  return tensor, lang_tokenizer"
      ],
      "execution_count": 6,
      "outputs": []
    },
    {
      "cell_type": "code",
      "metadata": {
        "id": "GSwlO8FM7JO6",
        "colab_type": "code",
        "colab": {}
      },
      "source": [
        "def load_dataset(path, num_examples=None):\n",
        "  # creating cleaned input, output pairs\n",
        "  targ_lang, inp_lang = create_dataset(path, num_examples)\n",
        "\n",
        "  input_tensor, inp_lang_tokenizer = tokenize(inp_lang)\n",
        "  target_tensor, targ_lang_tokenizer = tokenize(targ_lang)\n",
        "\n",
        "  return input_tensor, target_tensor, inp_lang_tokenizer, targ_lang_tokenizer"
      ],
      "execution_count": 7,
      "outputs": []
    },
    {
      "cell_type": "code",
      "metadata": {
        "id": "oPsXE_z87TJI",
        "colab_type": "code",
        "colab": {}
      },
      "source": [
        "# Try experimenting with the size of that dataset\n",
        "num_examples = 30000\n",
        "input_tensor, target_tensor, inp_lang, targ_lang = load_dataset(path_to_file, num_examples)\n",
        "\n",
        "# Calculate max_length of the target tensors\n",
        "max_length_targ, max_length_inp = target_tensor.shape[1], input_tensor.shape[1]"
      ],
      "execution_count": 8,
      "outputs": []
    },
    {
      "cell_type": "code",
      "metadata": {
        "id": "wMbWqnSo7TQ3",
        "colab_type": "code",
        "colab": {
          "base_uri": "https://localhost:8080/",
          "height": 34
        },
        "outputId": "86f8a71e-cdac-4e71-84bd-ae467cbf0fd2"
      },
      "source": [
        "# Creating training and validation sets using an 80-20 split\n",
        "input_tensor_train, input_tensor_val, target_tensor_train, target_tensor_val = train_test_split(input_tensor, target_tensor, test_size=0.2)\n",
        "\n",
        "# Show length\n",
        "print(len(input_tensor_train), len(target_tensor_train), len(input_tensor_val), len(target_tensor_val))"
      ],
      "execution_count": 9,
      "outputs": [
        {
          "output_type": "stream",
          "text": [
            "24000 24000 6000 6000\n"
          ],
          "name": "stdout"
        }
      ]
    },
    {
      "cell_type": "code",
      "metadata": {
        "id": "gJfWIBd67TWB",
        "colab_type": "code",
        "colab": {
          "base_uri": "https://localhost:8080/",
          "height": 340
        },
        "outputId": "6cd4aa35-954d-4315-fc36-60e42963574f"
      },
      "source": [
        "def convert(lang, tensor):\n",
        "  for t in tensor:\n",
        "    if t!=0:\n",
        "      print (\"%d ----> %s\" % (t, lang.index_word[t]))\n",
        "\n",
        "\n",
        "print (\"Input Language; index to word mapping\")\n",
        "convert(inp_lang, input_tensor_train[0])\n",
        "print ()\n",
        "print (\"Target Language; index to word mapping\")\n",
        "convert(targ_lang, target_tensor_train[0])"
      ],
      "execution_count": 10,
      "outputs": [
        {
          "output_type": "stream",
          "text": [
            "Input Language; index to word mapping\n",
            "1 ----> <start>\n",
            "766 ----> hola\n",
            "27 ----> !\n",
            "6 ----> ¿\n",
            "45 ----> como\n",
            "51 ----> estas\n",
            "5 ----> ?\n",
            "2 ----> <end>\n",
            "\n",
            "Target Language; index to word mapping\n",
            "1 ----> <start>\n",
            "679 ----> hi\n",
            "37 ----> !\n",
            "52 ----> how\n",
            "24 ----> are\n",
            "6 ----> you\n",
            "7 ----> ?\n",
            "2 ----> <end>\n"
          ],
          "name": "stdout"
        }
      ]
    },
    {
      "cell_type": "code",
      "metadata": {
        "id": "wnb7EPgs7TbQ",
        "colab_type": "code",
        "colab": {
          "base_uri": "https://localhost:8080/",
          "height": 34
        },
        "outputId": "bc2bd6c1-0dbe-4192-c519-5977ebfcfecc"
      },
      "source": [
        "BUFFER_SIZE = len(input_tensor_train)\n",
        "BATCH_SIZE = 64\n",
        "steps_per_epoch = len(input_tensor_train)//BATCH_SIZE\n",
        "embedding_dim = 256\n",
        "units = 1024\n",
        "vocab_inp_size = len(inp_lang.word_index)+1\n",
        "vocab_tar_size = len(targ_lang.word_index)+1\n",
        "\n",
        "dataset = tf.data.Dataset.from_tensor_slices((input_tensor_train, target_tensor_train)).shuffle(BUFFER_SIZE)\n",
        "dataset = dataset.batch(BATCH_SIZE, drop_remainder=True)\n",
        "\n",
        "example_input_batch, example_target_batch = next(iter(dataset))\n",
        "example_input_batch.shape, example_target_batch.shape"
      ],
      "execution_count": 11,
      "outputs": [
        {
          "output_type": "execute_result",
          "data": {
            "text/plain": [
              "(TensorShape([64, 16]), TensorShape([64, 11]))"
            ]
          },
          "metadata": {
            "tags": []
          },
          "execution_count": 11
        }
      ]
    },
    {
      "cell_type": "code",
      "metadata": {
        "id": "lz3GrTeHV0vL",
        "colab_type": "code",
        "colab": {
          "base_uri": "https://localhost:8080/",
          "height": 51
        },
        "outputId": "f47184bc-ce15-41d5-ecd5-947841c39629"
      },
      "source": [
        "print(vocab_tar_size)\n",
        "print(vocab_inp_size)"
      ],
      "execution_count": 12,
      "outputs": [
        {
          "output_type": "stream",
          "text": [
            "4935\n",
            "9414\n"
          ],
          "name": "stdout"
        }
      ]
    },
    {
      "cell_type": "code",
      "metadata": {
        "id": "sKjTH9jvk41d",
        "colab_type": "code",
        "colab": {}
      },
      "source": [
        "class NMT(tf.keras.Model):\n",
        "    def __init__(self, vocab_inp_size, vocab_targ_size, embedding_dim, units):\n",
        "        super(NMT, self).__init__()\n",
        "        # Encoding\n",
        "        self.enc_embedding = tf.keras.layers.Embedding(input_dim=vocab_inp_size, output_dim=embedding_dim)\n",
        "        self.enc_gru = tf.keras.layers.GRU(units=units, return_sequences=True, return_state=True)\n",
        "        # Attention\n",
        "        self.w1 = tf.keras.layers.Dense(units)\n",
        "        self.w2 = tf.keras.layers.Dense(units)\n",
        "        self.w3 = tf.keras.layers.Dense(1)\n",
        "        # Decoding\n",
        "        self.dec_embedding = tf.keras.layers.Embedding(input_dim=vocab_targ_size, output_dim=embedding_dim)\n",
        "        self.dec_gru = tf.keras.layers.GRU(units=units, return_sequences=True, return_state=True)\n",
        "        self.dense = tf.keras.layers.Dense(units=vocab_targ_size)\n",
        "\n",
        "    def call(self, inputs, target=None, luong=False, training=True):\n",
        "        preds = []\n",
        "        attention = []\n",
        "        # Encoding\n",
        "        enc_embedded = self.enc_embedding(inputs)\n",
        "        enc_output, enc_hidden = self.enc_gru(enc_embedded)\n",
        "        # Decoding and Attention\n",
        "        if training or target:\n",
        "            dec_input = tf.expand_dims(target[:, 0], 1)\n",
        "            start = 1\n",
        "            end = target.shape[1]\n",
        "        else:\n",
        "            dec_input = tf.expand_dims([targ_lang.word_index['<start>']], 0)\n",
        "            start = 0\n",
        "            end = max_length_targ\n",
        "        dec_hidden = enc_hidden\n",
        "        for i in range(start, end):\n",
        "            # Attention\n",
        "            if luong:\n",
        "                score = tf.matmul(self.w1(enc_output), tf.transpose(tf.expand_dims(dec_hidden, 1), perm=[0, 2, 1]))\n",
        "            else:\n",
        "                score = self.w3(tf.nn.tanh(self.w1(tf.expand_dims(dec_hidden, 1)) + self.w2(enc_output)))\n",
        "            attention_weights = tf.nn.softmax(score, 1)\n",
        "            context = tf.reduce_sum(attention_weights*enc_output, 1)\n",
        "            attention.append(attention_weights)\n",
        "            # Decoding\n",
        "            dec_embedded = self.dec_embedding(dec_input)\n",
        "            dec_output, dec_hidden = self.dec_gru(dec_embedded, initial_state=[context])\n",
        "            pred = self.dense(dec_output)\n",
        "            preds.append(pred)\n",
        "            dec_input = tf.expand_dims(target[:, i], 1) if training else tf.argmax(pred, -1)\n",
        "        return tf.concat(preds, 1), attention\n"
      ],
      "execution_count": null,
      "outputs": []
    },
    {
      "cell_type": "code",
      "metadata": {
        "id": "zgeh6xWIL08h",
        "colab_type": "code",
        "colab": {}
      },
      "source": [
        "class NMT(tf.keras.Model):\n",
        "    def __init__(self, vocab_inp_size, vocab_targ_size, embedding_dim, units):\n",
        "        super(NMT, self).__init__()\n",
        "        #Encoder\n",
        "        self.enc_embedding = tf.keras.layers.Embedding(input_dim=vocab_inp_size,\n",
        "                                                       output_dim=embedding_dim)\n",
        "        self.enc_rnn = tf.keras.layers.GRU(units=units, return_sequences=True, return_state=True)\n",
        "        #Attention\n",
        "        self.w1 = tf.keras.layers.Dense(units=units)\n",
        "        self.w2 = tf.keras.layers.Dense(units=units)\n",
        "        self.w3 = tf.keras.layers.Dense(units=1)\n",
        "        #Decoder\n",
        "        self.dec_embedding = tf.keras.layers.Embedding(input_dim=vocab_targ_size,\n",
        "                                                       output_dim=embedding_dim)\n",
        "        self.dec_rnn = tf.keras.layers.GRU(units=units, return_sequences=True, return_state=True)\n",
        "        self.dense = tf.keras.layers.Dense(units=vocab_targ_size)\n",
        "\n",
        "    def call(self, input, target, training):\n",
        "        enc_embedded = self.enc_embedding(input) #batch_size, seq_len, embedding_dim\n",
        "        enc_output, enc_state = self.enc_rnn(enc_embedded)\n",
        "\n",
        "        for "
      ],
      "execution_count": null,
      "outputs": []
    },
    {
      "cell_type": "code",
      "metadata": {
        "id": "d_93zv4sjZJQ",
        "colab_type": "code",
        "colab": {}
      },
      "source": [
        "batch_size = 64\n",
        "input_dim = 65\n",
        "embedding_dim = 256\n",
        "rnn_units = 1024\n",
        "\n",
        "BUFFER_SIZE = len(input_tensor_train)\n",
        "steps_per_epoch = len(input_tensor_train)//batch_size\n",
        "\n",
        "model = NMT(vocab_inp_size, vocab_tar_size, embedding_dim, rnn_units)\n",
        "\n",
        "\n",
        "optimizer = tf.keras.optimizers.Adam()\n",
        "loss_obj = tf.keras.losses.SparseCategoricalCrossentropy(from_logits=True, reduction='none')\n",
        "def loss_function(real, pred):\n",
        "    mask = tf.math.logical_not(tf.math.equal(real, 0))\n",
        "    loss_ = loss_obj(real, pred)\n",
        "\n",
        "    mask = tf.cast(mask, dtype=loss_.dtype)\n",
        "    loss_ *= mask\n",
        "\n",
        "    return tf.reduce_mean(loss_)\n",
        "\n",
        "@tf.function\n",
        "def train_step(input, target):\n",
        "    with tf.GradientTape() as tape:\n",
        "        preds, _ = model(inputs=input, target=target)\n",
        "        loss = loss_function(target[:, 1:], preds)\n",
        "        \n",
        "\n",
        "    variables = model.trainable_variables\n",
        "    grad = tape.gradient(loss, variables)\n",
        "    optimizer.apply_gradients(zip(grad, variables))\n",
        "        \n",
        "    return loss                "
      ],
      "execution_count": null,
      "outputs": []
    },
    {
      "cell_type": "code",
      "metadata": {
        "id": "HSkAxDb-VYZb",
        "colab_type": "code",
        "colab": {
          "base_uri": "https://localhost:8080/",
          "height": 527
        },
        "outputId": "b0ab20d2-c92b-4afa-b47c-92f9a6ac3b9c"
      },
      "source": [
        "checkpoint_dir = '/gdrive/My Drive/Colab Notebooks/checkpoints/NMT'\n",
        "checkpoint_prefix = os.path.join(checkpoint_dir, \"ckpt_gru\")\n",
        "checkpoint = tf.train.Checkpoint(optimizer=optimizer,\n",
        "                                 model=model)\n",
        "\n",
        "EPOCHS = 10\n",
        "\n",
        "for epoch in range(EPOCHS):\n",
        "    start = time.time()\n",
        "    total_loss = 0\n",
        "    for (batch, (inp, targ)) in enumerate(dataset.take(steps_per_epoch)):\n",
        "        loss = train_step(inp, targ)\n",
        "\n",
        "    # saving (checkpoint) the model every 2 epochs\n",
        "    if (epoch + 1) % 2 == 0:\n",
        "        checkpoint.save(file_prefix = checkpoint_prefix)\n",
        "\n",
        "    print(f'Epoch {epoch + 1} Loss {loss}')\n",
        "    print('Time taken for 1 epoch {} sec\\n'.format(time.time() - start))"
      ],
      "execution_count": null,
      "outputs": [
        {
          "output_type": "stream",
          "text": [
            "Epoch 1 Loss 1.6125599145889282\n",
            "Time taken for 1 epoch 77.1848304271698 sec\n",
            "\n",
            "Epoch 2 Loss 1.1875786781311035\n",
            "Time taken for 1 epoch 66.96861672401428 sec\n",
            "\n",
            "Epoch 3 Loss 0.8951773643493652\n",
            "Time taken for 1 epoch 65.78566384315491 sec\n",
            "\n",
            "Epoch 4 Loss 0.6039422750473022\n",
            "Time taken for 1 epoch 66.42562818527222 sec\n",
            "\n",
            "Epoch 5 Loss 0.3897191882133484\n",
            "Time taken for 1 epoch 65.80089521408081 sec\n",
            "\n",
            "Epoch 6 Loss 0.32650628685951233\n",
            "Time taken for 1 epoch 66.82388091087341 sec\n",
            "\n",
            "Epoch 7 Loss 0.23681119084358215\n",
            "Time taken for 1 epoch 65.62593293190002 sec\n",
            "\n",
            "Epoch 8 Loss 0.13849902153015137\n",
            "Time taken for 1 epoch 66.72990942001343 sec\n",
            "\n",
            "Epoch 9 Loss 0.151264488697052\n",
            "Time taken for 1 epoch 65.90584635734558 sec\n",
            "\n",
            "Epoch 10 Loss 0.09359820187091827\n",
            "Time taken for 1 epoch 66.43696689605713 sec\n",
            "\n"
          ],
          "name": "stdout"
        }
      ]
    },
    {
      "cell_type": "code",
      "metadata": {
        "id": "HipqVGJ_SeJ-",
        "colab_type": "code",
        "colab": {}
      },
      "source": [
        "def evaluate(sentence):\n",
        "    attention_plot = np.zeros((max_length_targ, max_length_inp))\n",
        "\n",
        "    sentence = preprocess_sentence(sentence)\n",
        "\n",
        "    inputs = [inp_lang.word_index[i] for i in sentence.split(' ')]\n",
        "    inputs = tf.keras.preprocessing.sequence.pad_sequences([inputs],\n",
        "                                                            maxlen=max_length_inp,\n",
        "                                                            padding='post')\n",
        "    inputs = tf.convert_to_tensor(inputs)\n",
        "\n",
        "    result = ''\n",
        "    target = [targ_lang.word_index['<start>']]\n",
        "    predictions, attention = model(inputs, training=False)\n",
        "\n",
        "    for t in range(max_length_targ):\n",
        "\n",
        "        attention_weights = tf.reshape(attention[t], (-1, ))\n",
        "        attention_plot[t] = attention_weights.numpy()\n",
        "        predicted_id = tf.argmax(tf.squeeze(predictions[:, t, :], 0)).numpy()\n",
        "        result += targ_lang.index_word[predicted_id] + ' '\n",
        "\n",
        "        if targ_lang.index_word[predicted_id] == '<end>':\n",
        "            return result, sentence, attention_plot\n",
        "\n",
        "        # the predicted ID is fed back into the model\n",
        "        dec_input = tf.expand_dims([predicted_id], 0)\n",
        "\n",
        "    return result, sentence, attention_plot"
      ],
      "execution_count": null,
      "outputs": []
    },
    {
      "cell_type": "code",
      "metadata": {
        "id": "MVVcVvXGWXg1",
        "colab_type": "code",
        "colab": {}
      },
      "source": [
        "# function for plotting the attention weights\n",
        "def plot_attention(attention, sentence, predicted_sentence):\n",
        "  fig = plt.figure(figsize=(10,10))\n",
        "  ax = fig.add_subplot(1, 1, 1)\n",
        "  ax.matshow(attention, cmap='viridis')\n",
        "\n",
        "  fontdict = {'fontsize': 14}\n",
        "\n",
        "  ax.set_xticklabels([''] + sentence, fontdict=fontdict, rotation=90)\n",
        "  ax.set_yticklabels([''] + predicted_sentence, fontdict=fontdict)\n",
        "\n",
        "  ax.xaxis.set_major_locator(ticker.MultipleLocator(1))\n",
        "  ax.yaxis.set_major_locator(ticker.MultipleLocator(1))\n",
        "\n",
        "  plt.show()"
      ],
      "execution_count": null,
      "outputs": []
    },
    {
      "cell_type": "code",
      "metadata": {
        "id": "lUieXSGbWbWs",
        "colab_type": "code",
        "colab": {}
      },
      "source": [
        "def translate(sentence):\n",
        "  result, sentence, attention_plot = evaluate(sentence)\n",
        "\n",
        "  print('Input: %s' % (sentence))\n",
        "  print('Predicted translation: {}'.format(result))\n",
        "\n",
        "  attention_plot = attention_plot[:len(result.split(' ')), :len(sentence.split(' '))]\n",
        "  plot_attention(attention_plot, sentence.split(' '), result.split(' '))"
      ],
      "execution_count": null,
      "outputs": []
    },
    {
      "cell_type": "code",
      "metadata": {
        "id": "cav5fgzqWdnh",
        "colab_type": "code",
        "colab": {
          "base_uri": "https://localhost:8080/",
          "height": 34
        },
        "outputId": "9846e1fd-e59f-4428-94d4-5a5e96f55962"
      },
      "source": [
        "checkpoint.restore(tf.train.latest_checkpoint(checkpoint_dir))"
      ],
      "execution_count": null,
      "outputs": [
        {
          "output_type": "execute_result",
          "data": {
            "text/plain": [
              "<tensorflow.python.training.tracking.util.CheckpointLoadStatus at 0x7fdbbb32c358>"
            ]
          },
          "metadata": {
            "tags": []
          },
          "execution_count": 19
        }
      ]
    },
    {
      "cell_type": "code",
      "metadata": {
        "id": "eJ-3kp_6bw5r",
        "colab_type": "code",
        "colab": {
          "base_uri": "https://localhost:8080/",
          "height": 425
        },
        "outputId": "d474641d-6c1e-4371-b95b-7f96f6d262ad"
      },
      "source": [
        "model.summary()"
      ],
      "execution_count": null,
      "outputs": [
        {
          "output_type": "stream",
          "text": [
            "Model: \"nmt\"\n",
            "_________________________________________________________________\n",
            "Layer (type)                 Output Shape              Param #   \n",
            "=================================================================\n",
            "embedding (Embedding)        multiple                  2409984   \n",
            "_________________________________________________________________\n",
            "gru (GRU)                    multiple                  3938304   \n",
            "_________________________________________________________________\n",
            "dense (Dense)                multiple                  1049600   \n",
            "_________________________________________________________________\n",
            "dense_1 (Dense)              multiple                  1049600   \n",
            "_________________________________________________________________\n",
            "dense_2 (Dense)              multiple                  1025      \n",
            "_________________________________________________________________\n",
            "embedding_1 (Embedding)      multiple                  1263360   \n",
            "_________________________________________________________________\n",
            "gru_1 (GRU)                  multiple                  3938304   \n",
            "_________________________________________________________________\n",
            "dense_3 (Dense)              multiple                  5058375   \n",
            "=================================================================\n",
            "Total params: 18,708,552\n",
            "Trainable params: 18,708,552\n",
            "Non-trainable params: 0\n",
            "_________________________________________________________________\n"
          ],
          "name": "stdout"
        }
      ]
    },
    {
      "cell_type": "code",
      "metadata": {
        "id": "EhedrsxnWhTi",
        "colab_type": "code",
        "colab": {
          "base_uri": "https://localhost:8080/",
          "height": 675
        },
        "outputId": "7a4995a5-e6ce-4200-ec82-f6d9b7237df1"
      },
      "source": [
        "translate(u'hace mucho frio aqui.') #no stateful in decoder"
      ],
      "execution_count": null,
      "outputs": [
        {
          "output_type": "stream",
          "text": [
            "Input: <start> hace mucho frio aqui . <end>\n",
            "Predicted translation: it s very cold here . <end> \n"
          ],
          "name": "stdout"
        },
        {
          "output_type": "display_data",
          "data": {
            "image/png": "[encoded data removed]",
            "text/plain": [
              "<Figure size 720x720 with 1 Axes>"
            ]
          },
          "metadata": {
            "tags": [],
            "needs_background": "light"
          }
        }
      ]
    },
    {
      "cell_type": "code",
      "metadata": {
        "id": "BtSdhmCDbkAL",
        "colab_type": "code",
        "colab": {
          "base_uri": "https://localhost:8080/",
          "height": 675
        },
        "outputId": "ac162daa-cee1-44c7-8a7a-bde74d787e0b"
      },
      "source": [
        "translate(u'¿todavia estan en casa?') #no stateful in decoder"
      ],
      "execution_count": null,
      "outputs": [
        {
          "output_type": "stream",
          "text": [
            "Input: <start> ¿ todavia estan en casa ? <end>\n",
            "Predicted translation: are you still at home ? <end> \n"
          ],
          "name": "stdout"
        },
        {
          "output_type": "display_data",
          "data": {
            "image/png": "[encoded data removed]",
            "text/plain": [
              "<Figure size 720x720 with 1 Axes>"
            ]
          },
          "metadata": {
            "tags": [],
            "needs_background": "light"
          }
        }
      ]
    },
    {
      "cell_type": "code",
      "metadata": {
        "id": "CxErZsW_aE_k",
        "colab_type": "code",
        "colab": {
          "base_uri": "https://localhost:8080/",
          "height": 675
        },
        "outputId": "6eb94af9-a47b-46bb-ab3f-bb5f9f11c639"
      },
      "source": [
        "translate(u\"te amo desde mi corazón\") #no stateful in decoder"
      ],
      "execution_count": null,
      "outputs": [
        {
          "output_type": "stream",
          "text": [
            "Input: <start> te amo desde mi corazon <end>\n",
            "Predicted translation: i love you my heart . <end> \n"
          ],
          "name": "stdout"
        },
        {
          "output_type": "display_data",
          "data": {
            "image/png": "[encoded data removed]",
            "text/plain": [
              "<Figure size 720x720 with 1 Axes>"
            ]
          },
          "metadata": {
            "tags": [],
            "needs_background": "light"
          }
        }
      ]
    },
    {
      "cell_type": "code",
      "metadata": {
        "id": "qU32gdtYPLqH",
        "colab_type": "code",
        "colab": {}
      },
      "source": [
        ""
      ],
      "execution_count": null,
      "outputs": []
    }
  ]
}